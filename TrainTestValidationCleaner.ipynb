{
 "cells": [
  {
   "cell_type": "code",
   "execution_count": 4,
   "metadata": {},
   "outputs": [],
   "source": [
    "from toolkit.train_test_samples import *\n",
    "from toolkit.constants import TWO_ACTIONS_SET\n",
    "import random\n",
    "\n",
    "samples_dict = {\n",
    "    \"train\" : {\n",
    "        \"split\" : 0.7,\n",
    "        \"jump\": TRAIN_SET_SUFFICIENT_JUMP_SET,\n",
    "        \"right\" : TRAIN_SET_SUFFICIENT_RIGHT_SET\n",
    "        },\n",
    "    \"test\": {\n",
    "        \"split\" : 0.15,\n",
    "        \"jump\": TEST_SET_SUFFICIENT_JUMP_SET,\n",
    "        \"right\" : TEST_SET_SUFFICIENT_RIGHT_SET\n",
    "        },\n",
    "    \"validation\" :  {\n",
    "        \"split\" : 0.15,\n",
    "        \"jump\": VALIDATION_SET_SUFFICIENT_JUMP_SET,\n",
    "        \"right\" : VALIDATION_SET_SUFFICIENT_RIGHT_SET\n",
    "        }\n",
    "}"
   ]
  },
  {
   "cell_type": "code",
   "execution_count": 5,
   "metadata": {},
   "outputs": [],
   "source": [
    "action_set = TWO_ACTIONS_SET\n",
    "indices = [i for i in range(len(action_set))]\n",
    "n = len(indices)\n",
    "train_indices = random.sample(indices, int(n*0.7)) # 70% train split\n",
    "remaining_indices = [i for i in indices if i not in train_indices] # keep the remaining in the test split"
   ]
  },
  {
   "cell_type": "code",
   "execution_count": 10,
   "metadata": {},
   "outputs": [],
   "source": [
    "def create_key(two_actions):\n",
    "    key = \" | \".join([\",\".join(i) for i in two_actions])\n",
    "    return key\n",
    "\n",
    "def create_actions_dict(action_set, name):\n",
    "    new_set = {}\n",
    "    for two_actions in action_set:\n",
    "        key = create_key(two_actions)\n",
    "        new_set[key] = name\n",
    "    return new_set\n",
    "\n",
    "def check_in(two_actions, act_set):\n",
    "    key = create_key(two_actions)\n",
    "    if key in act_set:\n",
    "        return True\n",
    "    return False"
   ]
  },
  {
   "cell_type": "code",
   "execution_count": 12,
   "metadata": {},
   "outputs": [],
   "source": [
    "val_jump_dict = create_actions_dict(samples_dict[\"validation\"][\"jump\"], \"validation\")\n",
    "val_right_dict = create_actions_dict(samples_dict[\"validation\"][\"right\"], \"validation\")"
   ]
  },
  {
   "cell_type": "code",
   "execution_count": 13,
   "metadata": {},
   "outputs": [],
   "source": [
    "train_jump_dict = create_actions_dict(samples_dict[\"train\"][\"jump\"], \"train\")\n",
    "train_right_dict = create_actions_dict(samples_dict[\"train\"][\"right\"], \"train\")"
   ]
  },
  {
   "cell_type": "code",
   "execution_count": 14,
   "metadata": {},
   "outputs": [],
   "source": [
    "test_jump_dict = create_actions_dict(samples_dict[\"test\"][\"jump\"], \"test\")\n",
    "test_right_dict = create_actions_dict(samples_dict[\"test\"][\"right\"], \"test\")"
   ]
  },
  {
   "cell_type": "code",
   "execution_count": null,
   "metadata": {},
   "outputs": [],
   "source": [
    "# check if for the train set, if any of the indices present are in the val or test sets:\n",
    "fo"
   ]
  },
  {
   "cell_type": "code",
   "execution_count": null,
   "metadata": {},
   "outputs": [],
   "source": []
  },
  {
   "cell_type": "code",
   "execution_count": null,
   "metadata": {},
   "outputs": [],
   "source": [
    "# check if things are present in the other sets\n",
    "def check_equal_lists(l1, l2):\n",
    "    sub_00 = l1[0]\n",
    "    sub_01 = l1[1]\n",
    "\n",
    "    sub_10 = l2[0]\n",
    "    sub_11 = l2[1]\n",
    "\n",
    "    if len(sub_00) == len(sub_10) and len(sub_01) == len(sub_11):\n",
    "        for val1, val2 in zip(sub_00, sub_10):\n",
    "            if val1 != val2:\n",
    "                return False\n",
    "        for val1, val2 in zip(sub_01, sub_11):\n",
    "            if val1 != val2:\n",
    "                return False\n",
    "            \n",
    "        return True\n",
    "    else:\n",
    "        return False\n",
    "    \n",
    "# test1 = [[\"a\"], [\"a, b\"]]\n",
    "# check_equal_lists(test1, test1)\n",
    "# test2 = [[\"ab\"], [\"a\"]]\n",
    "# check_equal_lists(test1, test2)"
   ]
  }
 ],
 "metadata": {
  "kernelspec": {
   "display_name": "env",
   "language": "python",
   "name": "python3"
  },
  "language_info": {
   "codemirror_mode": {
    "name": "ipython",
    "version": 3
   },
   "file_extension": ".py",
   "mimetype": "text/x-python",
   "name": "python",
   "nbconvert_exporter": "python",
   "pygments_lexer": "ipython3",
   "version": "3.10.11"
  },
  "orig_nbformat": 4
 },
 "nbformat": 4,
 "nbformat_minor": 2
}
