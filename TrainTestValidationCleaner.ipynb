{
 "cells": [
  {
   "cell_type": "code",
   "execution_count": null,
   "metadata": {},
   "outputs": [],
   "source": [
    "from toolkit.train_test_samples import *\n",
    "from toolkit.constants import TWO_ACTIONS_SET\n",
    "import random\n",
    "\n",
    "samples_dict = {\n",
    "    \"train\" : {\n",
    "        \"split\" : 0.7,\n",
    "        \"jump\": TRAIN_SET_SUFFICIENT_JUMP_SET,\n",
    "        \"right\" : TRAIN_SET_SUFFICIENT_RIGHT_SET\n",
    "        },\n",
    "    \"test\": {\n",
    "        \"split\" : 0.15,\n",
    "        \"jump\": TEST_SET_SUFFICIENT_JUMP_SET,\n",
    "        \"right\" : TEST_SET_SUFFICIENT_RIGHT_SET\n",
    "        },\n",
    "    \"validation\" :  {\n",
    "        \"split\" : 0.15,\n",
    "        \"jump\": VALIDATION_SET_SUFFICIENT_JUMP_SET,\n",
    "        \"right\" : VALIDATION_SET_SUFFICIENT_RIGHT_SET\n",
    "        }\n",
    "}"
   ]
  },
  {
   "cell_type": "code",
   "execution_count": null,
   "metadata": {},
   "outputs": [],
   "source": [
    "action_set = TWO_ACTIONS_SET\n",
    "indices = [i for i in range(len(action_set))]\n",
    "n = len(indices)\n",
    "train_indices = random.sample(indices, int(n*0.7)) # 70% train split\n",
    "remaining_indices = [i for i in indices if i not in train_indices] # keep the remaining in the test split"
   ]
  },
  {
   "cell_type": "code",
   "execution_count": null,
   "metadata": {},
   "outputs": [],
   "source": [
    "def create_key(two_actions):\n",
    "    key = \" | \".join([\",\".join(i) for i in two_actions])\n",
    "    return key\n",
    "\n",
    "def create_actions_dict(action_set, name):\n",
    "    new_set = {}\n",
    "    for two_actions in action_set:\n",
    "        key = create_key(two_actions)\n",
    "        new_set[key] = name\n",
    "    return new_set\n",
    "\n",
    "def check_in(two_actions, act_set):\n",
    "    key = create_key(two_actions)\n",
    "    if key in act_set:\n",
    "        return True\n",
    "    return False"
   ]
  },
  {
   "cell_type": "code",
   "execution_count": null,
   "metadata": {},
   "outputs": [],
   "source": [
    "val_jump_dict = create_actions_dict(samples_dict[\"validation\"][\"jump\"], \"validation\")\n",
    "val_right_dict = create_actions_dict(samples_dict[\"validation\"][\"right\"], \"validation\")"
   ]
  },
  {
   "cell_type": "code",
   "execution_count": null,
   "metadata": {},
   "outputs": [],
   "source": [
    "train_jump_dict = create_actions_dict(samples_dict[\"train\"][\"jump\"], \"train\")\n",
    "train_right_dict = create_actions_dict(samples_dict[\"train\"][\"right\"], \"train\")"
   ]
  },
  {
   "cell_type": "code",
   "execution_count": null,
   "metadata": {},
   "outputs": [],
   "source": [
    "test_jump_dict = create_actions_dict(samples_dict[\"test\"][\"jump\"], \"test\")\n",
    "test_right_dict = create_actions_dict(samples_dict[\"test\"][\"right\"], \"test\")"
   ]
  },
  {
   "cell_type": "code",
   "execution_count": null,
   "metadata": {},
   "outputs": [],
   "source": [
    "# check if for the train set, if any of the indices present are in the val or test sets:\n",
    "cleaned_train_indices = []\n",
    "for i in train_indices:\n",
    "    two_actions = TWO_ACTIONS_SET[i]\n",
    "    if check_in(two_actions, test_jump_dict):\n",
    "        continue\n",
    "    if check_in(two_actions, test_right_dict):\n",
    "        continue\n",
    "    if check_in(two_actions, val_jump_dict):\n",
    "        continue\n",
    "    if check_in(two_actions, val_right_dict):\n",
    "        continue\n",
    "    cleaned_train_indices.append(i)"
   ]
  },
  {
   "cell_type": "code",
   "execution_count": null,
   "metadata": {},
   "outputs": [],
   "source": [
    "# split remaining indices in two\n",
    "test_indices = remaining_indices[:int(len(remaining_indices)/2)]\n",
    "val_indices = remaining_indices[len(test_indices):]"
   ]
  },
  {
   "cell_type": "code",
   "execution_count": null,
   "metadata": {},
   "outputs": [],
   "source": [
    "# check if for the train set, if any of the indices present are in the val or test sets:\n",
    "cleaned_test_indices = []\n",
    "for i in test_indices:\n",
    "    two_actions = TWO_ACTIONS_SET[i]\n",
    "    if check_in(two_actions, train_jump_dict):\n",
    "        continue\n",
    "    if check_in(two_actions, train_right_dict):\n",
    "        continue\n",
    "    if check_in(two_actions, val_jump_dict):\n",
    "        continue\n",
    "    if check_in(two_actions, val_right_dict):\n",
    "        continue\n",
    "    cleaned_test_indices.append(i)"
   ]
  },
  {
   "cell_type": "code",
   "execution_count": null,
   "metadata": {},
   "outputs": [],
   "source": [
    "len(cleaned_test_indices)"
   ]
  },
  {
   "cell_type": "code",
   "execution_count": null,
   "metadata": {},
   "outputs": [],
   "source": [
    "cleaned_val_indices = []\n",
    "for i in val_indices:\n",
    "    two_actions = TWO_ACTIONS_SET[i]\n",
    "    if check_in(two_actions, train_jump_dict):\n",
    "        continue\n",
    "    if check_in(two_actions, train_right_dict):\n",
    "        continue\n",
    "    if check_in(two_actions, val_jump_dict):\n",
    "        continue\n",
    "    if check_in(two_actions, val_right_dict):\n",
    "        continue\n",
    "    cleaned_val_indices.append(i)"
   ]
  },
  {
   "cell_type": "code",
   "execution_count": null,
   "metadata": {},
   "outputs": [],
   "source": [
    "len(cleaned_val_indices)"
   ]
  },
  {
   "cell_type": "code",
   "execution_count": null,
   "metadata": {},
   "outputs": [],
   "source": [
    "# create the train, test and validation indices:\n",
    "new_train = []\n",
    "new_test = []\n",
    "new_val = []\n",
    "\n",
    "for i in cleaned_train_indices:\n",
    "    new_train.append(TWO_ACTIONS_SET[i])\n",
    "\n",
    "for i in cleaned_test_indices:\n",
    "    new_test.append(TWO_ACTIONS_SET[i])\n",
    "\n",
    "for i in cleaned_val_indices:\n",
    "    new_val.append(TWO_ACTIONS_SET[i])"
   ]
  },
  {
   "cell_type": "code",
   "execution_count": null,
   "metadata": {},
   "outputs": [],
   "source": [
    "print(len(new_train))\n",
    "print(len(new_test))\n",
    "print(len(new_val))"
   ]
  },
  {
   "cell_type": "code",
   "execution_count": null,
   "metadata": {},
   "outputs": [],
   "source": [
    "# generate the text output to save to the train_test.py file\n",
    "print(\"TRAIN_SET = [\")\n",
    "for i in new_train:\n",
    "    print(\"\\t\", i, \",\")\n",
    "print(\"]\")\n",
    "\n",
    "print(\"TEST_SET = [\")\n",
    "for i in new_test:\n",
    "    print(\"\\t\", i, \",\")\n",
    "print(\"]\")\n",
    "\n",
    "print(\"VALIDATION_SET = [\")\n",
    "for i in new_val:\n",
    "    print(\"\\t\", i, \",\")\n",
    "print(\"]\")"
   ]
  }
 ],
 "metadata": {
  "kernelspec": {
   "display_name": "env",
   "language": "python",
   "name": "python3"
  },
  "language_info": {
   "codemirror_mode": {
    "name": "ipython",
    "version": 3
   },
   "file_extension": ".py",
   "mimetype": "text/x-python",
   "name": "python",
   "nbconvert_exporter": "python",
   "pygments_lexer": "ipython3",
   "version": "3.10.11"
  },
  "orig_nbformat": 4
 },
 "nbformat": 4,
 "nbformat_minor": 2
}
