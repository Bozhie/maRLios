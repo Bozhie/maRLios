{
 "cells": [
  {
   "cell_type": "code",
   "execution_count": 1,
   "metadata": {},
   "outputs": [],
   "source": [
    "import torch\n",
    "import torch.nn as nn\n",
    "import random\n",
    "import gym\n",
    "import gym_super_mario_bros\n",
    "from nes_py.wrappers import JoypadSpace\n",
    "from gym_super_mario_bros import SuperMarioBrosEnv\n",
    "from tqdm import tqdm\n",
    "import pickle \n",
    "import gym\n",
    "import numpy as np\n",
    "import collections \n",
    "import cv2\n",
    "import matplotlib.pyplot as plt\n",
    "import time\n",
    "import datetime\n",
    "import json\n",
    "from toolkit.gym_env import *\n",
    "from toolkit.action_utils import *\n",
    "# from toolkit.marlios_lstm_action import *\n",
    "from toolkit.train_marlios import *\n",
    "from toolkit.constants import *\n",
    "from toolkit.train_test_samples import *\n",
    "import warnings\n",
    "\n",
    "warnings.filterwarnings('ignore')\n",
    "\n",
    "%load_ext autoreload\n",
    "%autoreload 2\n"
   ]
  },
  {
   "cell_type": "code",
   "execution_count": 3,
   "metadata": {},
   "outputs": [],
   "source": [
    "training_mode=True\n",
    "pretrained=False\n",
    "lr=0.0001\n",
    "gamma=0.90\n",
    "exploration_decay=0.995\n",
    "exploration_min=0.02\n",
    "ep_per_stat = 100\n",
    "exploration_max = 1\n",
    "lr_decay = 0.99\n",
    "mario_env='SuperMarioBros-1-1-v0'\n",
    "action_space=SIMPLE_MOVEMENT\n",
    "num_episodes=1000\n",
    "run_id='1683228531'\n",
    "n_actions=len(SIMPLE_MOVEMENT)\n",
    "debug = True\n",
    "name=None\n",
    "max_time_per_ep = 500\n",
    "device='cpu'\n",
    "log=True\n",
    "add_sufficient = False\n",
    "training_stage = \"train\"\n",
    "validate_every = 50\n",
    "run_id = run_id or generate_epoch_time_id()\n",
    "env = gym.make(mario_env)\n",
    "env = make_env(env, ACTION_SPACE)\n",
    "agent = DQNAgent(\n",
    "                    state_space=env.observation_space.shape,\n",
    "                    action_space=action_space,\n",
    "                    max_memory_size=30000,\n",
    "                    batch_size=n_actions,\n",
    "                    gamma=gamma,\n",
    "                    lr=lr,\n",
    "                    dropout=None,\n",
    "                    exploration_max=exploration_max,\n",
    "                    exploration_min=exploration_min,\n",
    "                    exploration_decay=exploration_decay,\n",
    "                    double_dq=True,\n",
    "                    pretrained=pretrained,\n",
    "                    run_id=run_id,\n",
    "                    n_actions=n_actions,\n",
    "                    device=device,\n",
    "                    init_max_time=max_time_per_ep,\n",
    "                    training_stage=training_stage,\n",
    "                    add_sufficient=add_sufficient\n",
    "                    )"
   ]
  },
  {
   "cell_type": "code",
   "execution_count": 12,
   "metadata": {},
   "outputs": [],
   "source": [
    "env.reset()\n",
    "for i in range(4): \n",
    "    state_next, _, _, _ = env.step(7)\n",
    "    \n",
    "state = torch.Tensor([state_next])"
   ]
  },
  {
   "cell_type": "code",
   "execution_count": 15,
   "metadata": {},
   "outputs": [
    {
     "name": "stdout",
     "output_type": "stream",
     "text": [
      "tensor([[1.1671, 1.5383, 0.8406, 0.1926, 0.9249, 0.5038, 0.7398]],\n",
      "       grad_fn=<ReshapeAliasBackward0>)\n"
     ]
    }
   ],
   "source": [
    "agent.subsample_actions()\n",
    "cur_action_space = agent.cur_action_space\n",
    "\n",
    "big_conv_out = agent.local_net.conv(state).view(state.size()[0], -1)\n",
    "conv_out = agent.local_net.conv_to_32(big_conv_out)\n",
    "\n",
    "batched_conv_out = conv_out.reshape(conv_out.shape[0], 1, conv_out.shape[-1]).repeat(1, cur_action_space.shape[-2], 1)\n",
    "\n",
    "latent_actions = agent.local_net.action_fc(cur_action_space)\n",
    "\n",
    "batched_actions = torch.cat((batched_conv_out, latent_actions), dim=2)\n",
    "\n",
    "out =  torch.flatten(agent.local_net.fc(batched_actions), start_dim=1)\n",
    "print(out)"
   ]
  },
  {
   "cell_type": "code",
   "execution_count": 14,
   "metadata": {},
   "outputs": [
    {
     "name": "stdout",
     "output_type": "stream",
     "text": [
      "tensor([[1.1671, 0.8406, 0.9249, 0.5038, 0.7398, 0.1926, 1.5383]],\n",
      "       grad_fn=<ReshapeAliasBackward0>)\n"
     ]
    }
   ],
   "source": [
    "print(out)"
   ]
  }
 ],
 "metadata": {
  "kernelspec": {
   "display_name": "env",
   "language": "python",
   "name": "python3"
  },
  "language_info": {
   "codemirror_mode": {
    "name": "ipython",
    "version": 3
   },
   "file_extension": ".py",
   "mimetype": "text/x-python",
   "name": "python",
   "nbconvert_exporter": "python",
   "pygments_lexer": "ipython3",
   "version": "3.10.11"
  },
  "orig_nbformat": 4
 },
 "nbformat": 4,
 "nbformat_minor": 2
}
