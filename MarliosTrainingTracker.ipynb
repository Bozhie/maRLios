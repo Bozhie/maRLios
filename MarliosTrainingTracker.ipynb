{
 "cells": [
  {
   "cell_type": "code",
   "execution_count": 1,
   "metadata": {},
   "outputs": [],
   "source": [
    "import torch\n",
    "import torch.nn as nn\n",
    "import random\n",
    "import gym\n",
    "import gym_super_mario_bros\n",
    "from nes_py.wrappers import JoypadSpace\n",
    "from gym_super_mario_bros import SuperMarioBrosEnv\n",
    "from tqdm import tqdm\n",
    "import pickle \n",
    "import gym\n",
    "import numpy as np\n",
    "import collections \n",
    "import cv2\n",
    "import matplotlib.pyplot as plt\n",
    "import time\n",
    "import datetime\n",
    "import json\n",
    "from toolkit.gym_env import *\n",
    "from toolkit.action_utils import *\n",
    "from toolkit.marlios_model import *\n",
    "from toolkit.train_marlios import *\n",
    "from toolkit.constants import *\n",
    "import warnings\n",
    "\n",
    "warnings.filterwarnings('ignore')\n",
    "\n",
    "%load_ext autoreload\n",
    "%autoreload 2"
   ]
  },
  {
   "cell_type": "code",
   "execution_count": 18,
   "metadata": {},
   "outputs": [
    {
     "data": {
      "text/html": [
       "Tracking run with wandb version 0.15.0"
      ],
      "text/plain": [
       "<IPython.core.display.HTML object>"
      ]
     },
     "metadata": {},
     "output_type": "display_data"
    },
    {
     "data": {
      "text/html": [
       "Run data is saved locally in <code>/Users/cameronwitz/Desktop/CSCI_566/maRLios/wandb/run-20230423_204055-i8xcxmgi</code>"
      ],
      "text/plain": [
       "<IPython.core.display.HTML object>"
      ]
     },
     "metadata": {},
     "output_type": "display_data"
    },
    {
     "data": {
      "text/html": [
       "Syncing run <strong><a href='https://wandb.ai/marlios/my-awesome-project/runs/i8xcxmgi' target=\"_blank\">bumbling-serenity-35</a></strong> to <a href='https://wandb.ai/marlios/my-awesome-project' target=\"_blank\">Weights & Biases</a> (<a href='https://wandb.me/run' target=\"_blank\">docs</a>)<br/>"
      ],
      "text/plain": [
       "<IPython.core.display.HTML object>"
      ]
     },
     "metadata": {},
     "output_type": "display_data"
    },
    {
     "data": {
      "text/html": [
       " View project at <a href='https://wandb.ai/marlios/my-awesome-project' target=\"_blank\">https://wandb.ai/marlios/my-awesome-project</a>"
      ],
      "text/plain": [
       "<IPython.core.display.HTML object>"
      ]
     },
     "metadata": {},
     "output_type": "display_data"
    },
    {
     "data": {
      "text/html": [
       " View run at <a href='https://wandb.ai/marlios/my-awesome-project/runs/i8xcxmgi' target=\"_blank\">https://wandb.ai/marlios/my-awesome-project/runs/i8xcxmgi</a>"
      ],
      "text/plain": [
       "<IPython.core.display.HTML object>"
      ]
     },
     "metadata": {},
     "output_type": "display_data"
    },
    {
     "name": "stderr",
     "output_type": "stream",
     "text": [
      "  0%|          | 7/3000 [01:01<7:35:52,  9.14s/it] "
     ]
    }
   ],
   "source": [
    "# train(\n",
    "#     name=\"Seemingly Good hyper params, needs more time (same as resilient grass but that was cut off with dif rewards plotting)\",\n",
    "#     training_mode=True, \n",
    "#     pretrained=False, # use the pretrained model\n",
    "#     ep_per_stat=100, \n",
    "#     gamma=0.9,\n",
    "#     num_episodes=3000,\n",
    "#     run_id=None,\n",
    "#     lr=0.000007,\n",
    "#     lr_decay= 0.999,\n",
    "#     exploration_min=0.2,\n",
    "#     exploration_max = 1, # setting this to the min for the rerun model\n",
    "#     exploration_decay=0.995, \n",
    "#     action_space=SIMPLE_MOVEMENT,\n",
    "#     n_actions=len(SIMPLE_MOVEMENT),\n",
    "#     debug=True,\n",
    "#     device='mps',\n",
    "#     max_time_per_ep=100 # limit runs to 200 seconds\n",
    "#     )\n",
    "\n",
    "train(\n",
    "    name=\"Continuation of the again but with dif lr in the beginning\",\n",
    "    training_mode=True, \n",
    "    pretrained=True, # use the pretrained model\n",
    "    ep_per_stat=100, \n",
    "    gamma=0.9,\n",
    "    num_episodes=3000,\n",
    "    run_id='1682283822',\n",
    "    lr=1e-8,\n",
    "    lr_decay= 0.999,\n",
    "    exploration_min=0.02,\n",
    "    exploration_max = 0.02, # setting this to the min for the rerun model\n",
    "    exploration_decay=0.995, \n",
    "    action_space=SIMPLE_MOVEMENT,\n",
    "    n_actions=len(SIMPLE_MOVEMENT),\n",
    "    debug=True,\n",
    "    device='mps',\n",
    "    max_time_per_ep=150 # limit runs to 200 seconds\n",
    "    )\n"
   ]
  },
  {
   "cell_type": "code",
   "execution_count": null,
   "metadata": {},
   "outputs": [],
   "source": [
    "# only need to run if you cut the above off early, even then you don't 'have' to but it will do it automatically for you, it's just not as nice to have the output above as well\n",
    "wandb.finish()"
   ]
  },
  {
   "cell_type": "code",
   "execution_count": null,
   "metadata": {},
   "outputs": [],
   "source": [
    "# cp ModelCheckpoints/*1682283822* . resetting this run here\n",
    "\n",
    "run_id='1682283822'\n",
    "visualize(run_id=run_id, action_space=SIMPLE_MOVEMENT, n_actions=len(SIMPLE_MOVEMENT))\n",
    "# total_rewards = load_item('total_rewards-1682227242.pkl')\n",
    "# plot_rewards(ep_per_stat=100, total_rewards=total_rewards)"
   ]
  },
  {
   "cell_type": "code",
   "execution_count": null,
   "metadata": {},
   "outputs": [],
   "source": []
  }
 ],
 "metadata": {
  "kernelspec": {
   "display_name": "env",
   "language": "python",
   "name": "python3"
  },
  "language_info": {
   "codemirror_mode": {
    "name": "ipython",
    "version": 3
   },
   "file_extension": ".py",
   "mimetype": "text/x-python",
   "name": "python",
   "nbconvert_exporter": "python",
   "pygments_lexer": "ipython3",
   "version": "3.10.11"
  },
  "orig_nbformat": 4
 },
 "nbformat": 4,
 "nbformat_minor": 2
}
