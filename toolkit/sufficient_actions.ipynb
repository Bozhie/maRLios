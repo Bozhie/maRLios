{
 "cells": [
  {
   "cell_type": "code",
   "execution_count": 1,
   "metadata": {},
   "outputs": [],
   "source": [
    "def is_sufficient_action(two_actions):\n",
    "\n",
    "    right_present = False\n",
    "    a_present = False\n",
    "\n",
    "    act1, act2 = two_actions\n",
    "\n",
    "    if (\"right\" in act1 and \"left\" not in act2) or (\"right\" in act2 and \"left\" not in act1):\n",
    "        right_present = True\n",
    "\n",
    "    if \"A\" in act1 or \"A\" in act2:\n",
    "        a_present = True\n",
    "\n",
    "    return right_present and a_present"
   ]
  },
  {
   "cell_type": "code",
   "execution_count": 2,
   "metadata": {},
   "outputs": [],
   "source": [
    "from toolkit.constants import TWO_ACTIONS_SET"
   ]
  },
  {
   "cell_type": "code",
   "execution_count": 3,
   "metadata": {},
   "outputs": [],
   "source": [
    "sufficient = []\n",
    "for two_actions in TWO_ACTIONS_SET:\n",
    "    if is_sufficient_action(two_actions):\n",
    "        sufficient.append(two_actions)"
   ]
  },
  {
   "cell_type": "code",
   "execution_count": 5,
   "metadata": {},
   "outputs": [
    {
     "data": {
      "text/plain": [
       "144"
      ]
     },
     "execution_count": 5,
     "metadata": {},
     "output_type": "execute_result"
    }
   ],
   "source": [
    "len(sufficient)"
   ]
  }
 ],
 "metadata": {
  "kernelspec": {
   "display_name": "Python 3",
   "language": "python",
   "name": "python3"
  },
  "language_info": {
   "codemirror_mode": {
    "name": "ipython",
    "version": 3
   },
   "file_extension": ".py",
   "mimetype": "text/x-python",
   "name": "python",
   "nbconvert_exporter": "python",
   "pygments_lexer": "ipython3",
   "version": "3.10.8"
  },
  "orig_nbformat": 4
 },
 "nbformat": 4,
 "nbformat_minor": 2
}
